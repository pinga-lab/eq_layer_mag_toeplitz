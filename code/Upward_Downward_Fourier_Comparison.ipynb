{
 "cells": [
  {
   "cell_type": "code",
   "execution_count": 1,
   "metadata": {},
   "outputs": [
    {
     "ename": "ModuleNotFoundError",
     "evalue": "No module named 'functions'",
     "output_type": "error",
     "traceback": [
      "\u001b[1;31m---------------------------------------------------------------------------\u001b[0m",
      "\u001b[1;31mModuleNotFoundError\u001b[0m                       Traceback (most recent call last)",
      "\u001b[1;32m<ipython-input-1-cd25838717d9>\u001b[0m in \u001b[0;36m<module>\u001b[1;34m\u001b[0m\n\u001b[0;32m      1\u001b[0m \u001b[1;32mimport\u001b[0m \u001b[0mnumpy\u001b[0m \u001b[1;32mas\u001b[0m \u001b[0mnp\u001b[0m\u001b[1;33m\u001b[0m\u001b[1;33m\u001b[0m\u001b[0m\n\u001b[1;32m----> 2\u001b[1;33m \u001b[1;32mimport\u001b[0m \u001b[0mfunctions\u001b[0m \u001b[1;32mas\u001b[0m \u001b[0mfc\u001b[0m\u001b[1;33m\u001b[0m\u001b[1;33m\u001b[0m\u001b[0m\n\u001b[0m\u001b[0;32m      3\u001b[0m \u001b[1;32mimport\u001b[0m \u001b[0mfourier_continuation\u001b[0m \u001b[1;32mas\u001b[0m \u001b[0mfc_c\u001b[0m\u001b[1;33m\u001b[0m\u001b[1;33m\u001b[0m\u001b[0m\n\u001b[0;32m      4\u001b[0m \u001b[1;32mfrom\u001b[0m \u001b[0mtimeit\u001b[0m \u001b[1;32mimport\u001b[0m \u001b[0mdefault_timer\u001b[0m \u001b[1;32mas\u001b[0m \u001b[0mtime\u001b[0m\u001b[1;33m\u001b[0m\u001b[1;33m\u001b[0m\u001b[0m\n\u001b[0;32m      5\u001b[0m \u001b[1;32mfrom\u001b[0m \u001b[0mfatiando\u001b[0m\u001b[1;33m.\u001b[0m\u001b[0mgravmag\u001b[0m \u001b[1;32mimport\u001b[0m \u001b[0mpolyprism\u001b[0m\u001b[1;33m,\u001b[0m \u001b[0msphere\u001b[0m\u001b[1;33m\u001b[0m\u001b[1;33m\u001b[0m\u001b[0m\n",
      "\u001b[1;31mModuleNotFoundError\u001b[0m: No module named 'functions'"
     ]
    }
   ],
   "source": [
    "import numpy as np\n",
    "import fourier_continuation as fc_c\n",
    "from timeit import default_timer as time\n",
    "import functions_eq_mag as fc\n",
    "import functions_fatiando as ft\n",
    "from scipy.sparse import diags\n",
    "from matplotlib import pyplot as plt\n",
    "import matplotlib.cm as cm\n",
    "from scipy.interpolate import griddata\n",
    "from scipy import interpolate\n",
    "from fatiando.vis import mpl\n",
    "import cPickle as pickle\n",
    "%matplotlib inline"
   ]
  },
  {
   "cell_type": "markdown",
   "metadata": {},
   "source": [
    "## Open data and configuration"
   ]
  },
  {
   "cell_type": "code",
   "execution_count": 2,
   "metadata": {},
   "outputs": [],
   "source": [
    "with open('synthetic_gz.pickle') as r:\n",
    "    synthetic_gz = pickle.load(r)\n",
    "    \n",
    "xi = synthetic_gz['x']\n",
    "yi = synthetic_gz['y']\n",
    "zi = synthetic_gz['z']\n",
    "zi_up = synthetic_gz['z_up']\n",
    "zi_down = synthetic_gz['z_down']\n",
    "dobs = synthetic_gz['gz_med']\n",
    "dobs_up = synthetic_gz['gz_up']\n",
    "dobs_down = synthetic_gz['gz_down']\n",
    "\n",
    "shape = (100, 100)\n",
    "area = [-5000, 5000, -4000, 4000]\n",
    "R = 1000\n",
    "xc, yc = -3000, 0"
   ]
  },
  {
   "cell_type": "markdown",
   "metadata": {},
   "source": [
    "## Equivalent Layer Depth"
   ]
  },
  {
   "cell_type": "code",
   "execution_count": 3,
   "metadata": {},
   "outputs": [],
   "source": [
    "# Equivalent Layer depth\n",
    "zj = np.ones_like(zi)*300"
   ]
  },
  {
   "cell_type": "markdown",
   "metadata": {},
   "source": [
    "## Fast Eq. Layer"
   ]
  },
  {
   "cell_type": "code",
   "execution_count": 4,
   "metadata": {},
   "outputs": [
    {
     "name": "stdout",
     "output_type": "stream",
     "text": [
      "10.3862431049 seconds\n"
     ]
    }
   ],
   "source": [
    "# Predicted data\n",
    "itmax = 40\n",
    "s = time()\n",
    "rho, gzp = fc.fast_eq(xi,yi,zi,zj,shape,dobs,itmax)\n",
    "e = time()\n",
    "tcpu = e - s\n",
    "print tcpu, 'seconds'"
   ]
  },
  {
   "cell_type": "markdown",
   "metadata": {},
   "source": [
    "## Fast Eq. Layer BCCB"
   ]
  },
  {
   "cell_type": "code",
   "execution_count": 5,
   "metadata": {},
   "outputs": [
    {
     "name": "stdout",
     "output_type": "stream",
     "text": [
      "0.0598001480103 seconds\n"
     ]
    }
   ],
   "source": [
    "# Predicted data\n",
    "itmax = 40\n",
    "s = time()\n",
    "rho_c, gzp_bccb = fc.fast_eq_bccb(xi,yi,zi,zj,shape,dobs,itmax)\n",
    "e = time()\n",
    "tcpu = e - s\n",
    "print tcpu, 'seconds'"
   ]
  },
  {
   "cell_type": "markdown",
   "metadata": {},
   "source": [
    "## Upward Continuation and Downward Continuation"
   ]
  },
  {
   "cell_type": "code",
   "execution_count": 6,
   "metadata": {},
   "outputs": [
    {
     "name": "stdout",
     "output_type": "stream",
     "text": [
      "0.00499701499939 seconds\n",
      "8.85737490654 seconds\n",
      "0.00388503074646 seconds\n",
      "8.63595795631 seconds\n"
     ]
    }
   ],
   "source": [
    "N = shape[0]*shape[1]\n",
    "\n",
    "#up BCCB\n",
    "s = time()\n",
    "#zi_up = np.ones_like(zi)*-300\n",
    "BTTB_up = fc.bttb(xi,yi,zi_up,zj)\n",
    "cev_up = fc.bccb(shape,N,BTTB_up)\n",
    "gzp_bccb_up = fc.fast_forward_bccb(shape,N,rho_c,cev_up)\n",
    "e = time()\n",
    "tcpu = e - s\n",
    "print tcpu, 'seconds'\n",
    "\n",
    "s = time()\n",
    "A = fc.sensibility_matrix(xi,yi,zi_up,zj,N)\n",
    "gzp_up = A.dot(rho)\n",
    "e = time()\n",
    "tcpu = e - s\n",
    "print tcpu, 'seconds'\n",
    "\n",
    "\n",
    "#down BCCB\n",
    "s = time()\n",
    "#zi_down = np.ones_like(zi)*-50\n",
    "BTTB_down = fc.bttb(xi,yi,zi_down,zj)\n",
    "cev_down = fc.bccb(shape,N,BTTB_down)\n",
    "gzp_bccb_down = fc.fast_forward_bccb(shape,N,rho_c,cev_down)\n",
    "e = time()\n",
    "tcpu = e - s\n",
    "print tcpu, 'seconds'\n",
    "\n",
    "s = time()\n",
    "A = fc.sensibility_matrix(xi,yi,zi_down,zj,N)\n",
    "gzp_down = A.dot(rho)\n",
    "e = time()\n",
    "tcpu = e - s\n",
    "print tcpu, 'seconds'"
   ]
  },
  {
   "cell_type": "markdown",
   "metadata": {},
   "source": [
    "### Upward plot"
   ]
  },
  {
   "cell_type": "code",
   "execution_count": 7,
   "metadata": {},
   "outputs": [],
   "source": [
    "delta_gz_bccb_up = dobs_up-gzp_bccb_up\n",
    "delta_gz_up = dobs_up-gzp_up"
   ]
  },
  {
   "cell_type": "code",
   "execution_count": 8,
   "metadata": {},
   "outputs": [],
   "source": [
    "#Projection_model\n",
    "phi = np.linspace(0, 2.*np.pi, 36)  #36 points\n",
    "x = xc + R*np.cos(phi)\n",
    "y = yc + R*np.sin(phi)\n",
    "\n",
    "x_p = [-3000., -3500, 0, 500, -3000.]\n",
    "y_p = [-500., 0, 4500, 4000, -500.]\n",
    "\n",
    "x_p2 = [-3000, -2500, 3500, 3000, -3000.]\n",
    "y_p2 = [4000, 4500, 0, -500, 4000]"
   ]
  },
  {
   "cell_type": "raw",
   "metadata": {},
   "source": [
    "plt.figure(figsize=(6,16))\n",
    "\n",
    "plt.subplot(311)\n",
    "plt.title('(a)', y=0.91, x=-0.13, fontsize=14)\n",
    "plt.tricontourf(yi,xi,dobs_up,22,cmap='jet',\n",
    "                vmin=synthetic_gz['gz_min'],vmax=synthetic_gz['gz_max'])\n",
    "plt.plot(x_p,y_p,color=\"k\", linewidth=3)\n",
    "plt.plot(x_p2,y_p2,color=\"k\", linewidth=3)\n",
    "plt.plot(y, x, color=\"k\", linewidth=3)\n",
    "cb = plt.colorbar(shrink=1)\n",
    "#plt.axis('scaled')\n",
    "cb.set_label('$Gz$ ( $mGal$ )', rotation=90, fontsize=14)\n",
    "plt.xlim(np.min(yi),np.max(yi))\n",
    "plt.ylim(np.min(xi),np.max(xi))\n",
    "plt.xticks(fontsize=14)\n",
    "plt.yticks(fontsize=14)\n",
    "#plt.xlabel('Easting coordinate y (km)', fontsize=14)\n",
    "plt.ylabel('Northing coordinate x (m)', fontsize=14)\n",
    "mpl.m2km()\n",
    "\n",
    "#delta_gz_up = dobs_up-gzp_up\n",
    "plt.subplot(312)\n",
    "plt.title('(b)', y=0.91, x=-0.13, fontsize=14)\n",
    "plt.tricontourf(yi,xi,delta_gz_up,22,cmap='jet')\n",
    "plt.plot(x_p,y_p,color=\"k\", linewidth=3)\n",
    "plt.plot(x_p2,y_p2,color=\"k\", linewidth=3)\n",
    "plt.plot(y, x, color=\"k\", linewidth=3)\n",
    "cb = plt.colorbar(shrink=1)\n",
    "#plt.axis('scaled')\n",
    "cb.set_label('$Gz$ ( $mGal$ )', rotation=90, fontsize=14)\n",
    "plt.xlim(np.min(yi),np.max(yi))\n",
    "plt.ylim(np.min(xi),np.max(xi))\n",
    "plt.xticks(fontsize=14)\n",
    "plt.yticks(fontsize=14)\n",
    "#plt.xlabel('Easting coordinate y (km)', fontsize=14)\n",
    "plt.ylabel('Northing coordinate x (m)', fontsize=14)\n",
    "mpl.m2km()\n",
    "\n",
    "#delta_gz_bccb_up = dobs_up-gzp_bccb_up\n",
    "plt.subplot(313)\n",
    "plt.title('(c)', y=0.91, x=-0.13, fontsize=14)\n",
    "plt.tricontourf(yi,xi,delta_gz_bccb_up,22,cmap='jet')\n",
    "plt.plot(x_p,y_p,color=\"k\", linewidth=3)\n",
    "plt.plot(x_p2,y_p2,color=\"k\", linewidth=3)\n",
    "plt.plot(y, x, color=\"k\", linewidth=3)\n",
    "cb = plt.colorbar(shrink=1)\n",
    "#plt.axis('scaled')\n",
    "cb.set_label('$Gz$ ( $mGal$ )', rotation=90, fontsize=14)\n",
    "plt.xlim(np.min(yi),np.max(yi))\n",
    "plt.ylim(np.min(xi),np.max(xi))\n",
    "plt.xticks(fontsize=14)\n",
    "plt.yticks(fontsize=14)\n",
    "plt.xlabel('Easting coordinate y (km)', fontsize=14)\n",
    "plt.ylabel('Northing coordinate x (m)', fontsize=14)\n",
    "mpl.m2km()\n",
    "plt.tight_layout(True)\n",
    "#plt.savefig('../manuscript/Fig/upward_med.png', dpi=300)"
   ]
  },
  {
   "cell_type": "code",
   "execution_count": 9,
   "metadata": {},
   "outputs": [
    {
     "name": "stdout",
     "output_type": "stream",
     "text": [
      "0.0031299438371729044\n",
      "0.03444145923923826\n",
      "0.0031299438371728884\n",
      "0.03444145923923814\n"
     ]
    }
   ],
   "source": [
    "mean = np.mean(delta_gz_up)\n",
    "print mean\n",
    "std = np.std(delta_gz_up)\n",
    "print std\n",
    "mean = np.mean(delta_gz_bccb_up)\n",
    "print mean\n",
    "std = np.std(delta_gz_bccb_up)\n",
    "print std"
   ]
  },
  {
   "cell_type": "markdown",
   "metadata": {},
   "source": [
    "### Downward plot"
   ]
  },
  {
   "cell_type": "code",
   "execution_count": 10,
   "metadata": {},
   "outputs": [],
   "source": [
    "delta_gz_down = dobs_down-gzp_down\n",
    "delta_gz_bccb_down = dobs_down-gzp_bccb_down"
   ]
  },
  {
   "cell_type": "raw",
   "metadata": {},
   "source": [
    "plt.figure(figsize=(6,16))\n",
    "\n",
    "plt.subplot(311)\n",
    "plt.title('(a)', y=0.91, x=-0.13, fontsize=14)\n",
    "plt.tricontourf(yi,xi,dobs_down,22,cmap='jet',\n",
    "                vmin=synthetic_gz['gz_min'],vmax=synthetic_gz['gz_max'])\n",
    "plt.plot(x_p,y_p,color=\"k\", linewidth=3)\n",
    "plt.plot(x_p2,y_p2,color=\"k\", linewidth=3)\n",
    "plt.plot(y, x, color=\"k\", linewidth=3)\n",
    "cb = plt.colorbar(shrink=1)\n",
    "#plt.axis('scaled')\n",
    "cb.set_label('$Gz$ ( $mGal$ )', rotation=90, fontsize=14)\n",
    "plt.xlim(np.min(yi),np.max(yi))\n",
    "plt.ylim(np.min(xi),np.max(xi))\n",
    "plt.xticks(fontsize=14)\n",
    "plt.yticks(fontsize=14)\n",
    "#plt.xlabel('Easting coordinate y (km)', fontsize=14)\n",
    "plt.ylabel('Northing coordinate x (m)', fontsize=14)\n",
    "mpl.m2km()\n",
    "\n",
    "#delta_gz_down = dobs_down-gzp_down\n",
    "plt.subplot(312)\n",
    "plt.title('(b)', y=0.91, x=-0.13, fontsize=14)\n",
    "plt.tricontourf(yi,xi,delta_gz_down,22,cmap='jet')\n",
    "plt.plot(x_p,y_p,color=\"k\", linewidth=3)\n",
    "plt.plot(x_p2,y_p2,color=\"k\", linewidth=3)\n",
    "plt.plot(y, x, color=\"k\", linewidth=3)\n",
    "cb = plt.colorbar(shrink=1)\n",
    "#plt.axis('scaled')\n",
    "cb.set_label('$Gz$ ( $mGal$ )', rotation=90, fontsize=14)\n",
    "plt.xlim(np.min(yi),np.max(yi))\n",
    "plt.ylim(np.min(xi),np.max(xi))\n",
    "plt.xticks(fontsize=14)\n",
    "plt.yticks(fontsize=14)\n",
    "#plt.xlabel('Easting coordinate y (km)', fontsize=14)\n",
    "plt.ylabel('Northing coordinate x (m)', fontsize=14)\n",
    "mpl.m2km()\n",
    "\n",
    "#delta_gz_bccb_down = dobs_down-gzp_bccb_down\n",
    "plt.subplot(313)\n",
    "plt.title('(c)', y=0.91, x=-0.13, fontsize=14)\n",
    "plt.tricontourf(yi,xi,delta_gz_bccb_down,22,cmap='jet')\n",
    "plt.plot(x_p,y_p,color=\"k\", linewidth=3)\n",
    "plt.plot(x_p2,y_p2,color=\"k\", linewidth=3)\n",
    "plt.plot(y, x, color=\"k\", linewidth=3)\n",
    "cb = plt.colorbar(shrink=1)\n",
    "#plt.axis('scaled')\n",
    "cb.set_label('$Gz$ ( $mGal$ )', rotation=90, fontsize=14)\n",
    "plt.xlim(np.min(yi),np.max(yi))\n",
    "plt.ylim(np.min(xi),np.max(xi))\n",
    "plt.xticks(fontsize=14)\n",
    "plt.yticks(fontsize=14)\n",
    "plt.xlabel('Easting coordinate y (km)', fontsize=14)\n",
    "plt.ylabel('Northing coordinate x (m)', fontsize=14)\n",
    "mpl.m2km()\n",
    "plt.tight_layout(True)\n",
    "#plt.savefig('../manuscript/Fig/downward_med.png', dpi=300)"
   ]
  },
  {
   "cell_type": "code",
   "execution_count": 11,
   "metadata": {},
   "outputs": [
    {
     "name": "stdout",
     "output_type": "stream",
     "text": [
      "-0.001007217244496282\n",
      "0.03831202233877217\n",
      "-0.0010072172444962715\n",
      "0.038312022338772185\n"
     ]
    }
   ],
   "source": [
    "mean = np.mean(delta_gz_down)\n",
    "print mean\n",
    "std = np.std(delta_gz_down)\n",
    "print std\n",
    "mean = np.mean(delta_gz_bccb_down)\n",
    "print mean\n",
    "std = np.std(delta_gz_bccb_down)\n",
    "print std"
   ]
  },
  {
   "cell_type": "markdown",
   "metadata": {},
   "source": [
    "## Comparison Upward - BCCB vs. Fast vs. Fourier"
   ]
  },
  {
   "cell_type": "code",
   "execution_count": 12,
   "metadata": {
    "scrolled": false
   },
   "outputs": [],
   "source": [
    "# Up Fourier\n",
    "gzp_fourier_up = fc_c.upcontinue(xi, yi, dobs, shape, 200)"
   ]
  },
  {
   "cell_type": "code",
   "execution_count": 13,
   "metadata": {},
   "outputs": [
    {
     "name": "stdout",
     "output_type": "stream",
     "text": [
      "-1.9005183543218769 1.9026002023084692\n"
     ]
    }
   ],
   "source": [
    "# define the scale for residuals\n",
    "delta_gz_fourier_up = dobs_up-np.ravel(gzp_fourier_up)\n",
    "scale_max = np.max([delta_gz_bccb_up, delta_gz_up, delta_gz_fourier_up])\n",
    "scale_min = np.min([delta_gz_bccb_up, delta_gz_up, delta_gz_fourier_up])\n",
    "\n",
    "print scale_min, scale_max"
   ]
  },
  {
   "cell_type": "code",
   "execution_count": 14,
   "metadata": {},
   "outputs": [],
   "source": [
    "colorbar_ranges = np.linspace(-2, 2, 21)"
   ]
  },
  {
   "cell_type": "code",
   "execution_count": 15,
   "metadata": {},
   "outputs": [
    {
     "data": {
      "text/plain": [
       "array([-2. , -1.8, -1.6, -1.4, -1.2, -1. , -0.8, -0.6, -0.4, -0.2,  0. ,\n",
       "        0.2,  0.4,  0.6,  0.8,  1. ,  1.2,  1.4,  1.6,  1.8,  2. ])"
      ]
     },
     "execution_count": 15,
     "metadata": {},
     "output_type": "execute_result"
    }
   ],
   "source": [
    "colorbar_ranges"
   ]
  },
  {
   "cell_type": "code",
   "execution_count": 16,
   "metadata": {},
   "outputs": [
    {
     "data": {
      "image/png": "[encoded data removed]",
      "text/plain": [
       "<Figure size 311.76x280.584 with 8 Axes>"
      ]
     },
     "metadata": {
      "needs_background": "light"
     },
     "output_type": "display_data"
    }
   ],
   "source": [
    "font_title = 8\n",
    "font_ticks = 5\n",
    "font_labels = 6\n",
    "\n",
    "\n",
    "height=9.\n",
    "width = 10.\n",
    "height_per_width = height/width\n",
    "#plt.figure(figsize=(10,9))\n",
    "plt.figure(figsize=(4.33,4.33*height_per_width))\n",
    "\n",
    "plt.subplot(221)\n",
    "plt.title('(a)', y=0.95, x=-0.18, fontsize=font_title)\n",
    "# plt.tricontourf(yi,xi,dobs_up,22,cmap='jet',\n",
    "#                 vmin=synthetic_gz['gz_min'],vmax=synthetic_gz['gz_max'])\n",
    "plt.contourf(yi.reshape(shape),xi.reshape(shape),dobs_up.reshape(shape),\n",
    "             22,cmap='jet',vmin=synthetic_gz['gz_min'],vmax=synthetic_gz['gz_max'])\n",
    "plt.plot(x_p,y_p,color=\"k\", linewidth=1)\n",
    "plt.plot(x_p2,y_p2,color=\"k\", linewidth=1)\n",
    "plt.plot(y, x, color=\"k\", linewidth=1)\n",
    "cb = plt.colorbar(shrink=1)\n",
    "#plt.axis('scaled')\n",
    "cb.set_label('Gravity data (mGal)', rotation=90, fontsize=font_labels)\n",
    "cb.ax.tick_params(labelsize=font_ticks)\n",
    "\n",
    "plt.xlim(np.min(yi),np.max(yi))\n",
    "plt.ylim(np.min(xi),np.max(xi))\n",
    "plt.xticks(fontsize=font_ticks)\n",
    "plt.yticks(fontsize=font_ticks)\n",
    "#plt.xlabel('Easting coordinate y (km)', fontsize=14)\n",
    "plt.ylabel('Northing coordinate x (m)', fontsize=font_labels)\n",
    "mpl.m2km()\n",
    "\n",
    "plt.subplot(222)\n",
    "plt.title('(b)', y=0.95, x=-0.18, fontsize=font_title)\n",
    "#plt.tricontourf(yi,xi,delta_gz_bccb_up,22,cmap='jet', vmin = scale_min, vmax = scale_max)\n",
    "plt.contourf(yi.reshape(shape),xi.reshape(shape),delta_gz_bccb_up.reshape(shape),\n",
    "             22,cmap='jet',vmin=scale_min,vmax=scale_max)\n",
    "plt.plot(x_p,y_p,color=\"k\", linewidth=1)\n",
    "plt.plot(x_p2,y_p2,color=\"k\", linewidth=1)\n",
    "plt.plot(y, x, color=\"k\", linewidth=1)\n",
    "\n",
    "#define colorbar\n",
    "cbar = plt.cm.ScalarMappable(cmap=cm.jet)\n",
    "cbar.set_array(delta_gz_bccb_up)\n",
    "cbar.set_clim(scale_min, scale_max)\n",
    "cb = plt.colorbar(cbar, shrink=1, boundaries=colorbar_ranges)\n",
    "cb.set_label('Residuals (mGal)', rotation=90, fontsize=font_labels)\n",
    "cb.ax.tick_params(labelsize=font_ticks)\n",
    "\n",
    "plt.xlim(np.min(yi),np.max(yi))\n",
    "plt.ylim(np.min(xi),np.max(xi))\n",
    "plt.xticks(fontsize=font_ticks)\n",
    "plt.yticks(fontsize=font_ticks)\n",
    "#plt.xlabel('Easting coordinate y (km)', fontsize=14)\n",
    "#plt.ylabel('Northing coordinate x (m)', fontsize=14)\n",
    "mpl.m2km()\n",
    "\n",
    "plt.subplot(223)\n",
    "plt.title('(c)', y=0.95, x=-0.18, fontsize=font_title)\n",
    "#plt.tricontourf(yi,xi,delta_gz_up,22,cmap='jet', vmin = scale_min, vmax = scale_max)\n",
    "plt.contourf(yi.reshape(shape),xi.reshape(shape),delta_gz_up.reshape(shape),\n",
    "             22,cmap='jet',vmin=scale_min,vmax=scale_max)\n",
    "plt.plot(x_p,y_p,color=\"k\", linewidth=1)\n",
    "plt.plot(x_p2,y_p2,color=\"k\", linewidth=1)\n",
    "plt.plot(y, x, color=\"k\", linewidth=1)\n",
    "\n",
    "#define colorbar\n",
    "cbar = plt.cm.ScalarMappable(cmap=cm.jet)\n",
    "cbar.set_array(delta_gz_up)\n",
    "cbar.set_clim(scale_min, scale_max)\n",
    "cb = plt.colorbar(cbar, shrink=1, boundaries=colorbar_ranges)\n",
    "cb.set_label('Residuals (mGal)', rotation=90, fontsize=font_labels)\n",
    "cb.ax.tick_params(labelsize=font_ticks)\n",
    "\n",
    "plt.xlim(np.min(yi),np.max(yi))\n",
    "plt.ylim(np.min(xi),np.max(xi))\n",
    "plt.xticks(fontsize=font_ticks)\n",
    "plt.yticks(fontsize=font_ticks)\n",
    "plt.xlabel('Easting coordinate y (km)', fontsize=font_labels)\n",
    "plt.ylabel('Northing coordinate x (m)', fontsize=font_labels)\n",
    "mpl.m2km()\n",
    "\n",
    "plt.subplot(224)\n",
    "plt.title('(d)', y=0.95, x=-0.18, fontsize=font_title)\n",
    "#plt.tricontourf(yi,xi,delta_gz_fourier_up,22,cmap='jet', vmin = scale_min, vmax = scale_max)\n",
    "plt.contourf(yi.reshape(shape),xi.reshape(shape),delta_gz_fourier_up.reshape(shape),\n",
    "             22,cmap='jet',vmin=scale_min,vmax=scale_max)\n",
    "plt.plot(x_p,y_p,color=\"k\", linewidth=1)\n",
    "plt.plot(x_p2,y_p2,color=\"k\", linewidth=1)\n",
    "plt.plot(y, x, color=\"k\", linewidth=1)\n",
    "\n",
    "#define colorbar\n",
    "cbar = plt.cm.ScalarMappable(cmap=cm.jet)\n",
    "cbar.set_array(delta_gz_fourier_up)\n",
    "cbar.set_clim(scale_min, scale_max)\n",
    "cb = plt.colorbar(cbar, shrink=1, boundaries=colorbar_ranges)\n",
    "cb.set_label('Residuals (mGal)', rotation=90, fontsize=font_labels)\n",
    "cb.ax.tick_params(labelsize=font_ticks)\n",
    "\n",
    "plt.xlim(np.min(yi),np.max(yi))\n",
    "plt.ylim(np.min(xi),np.max(xi))\n",
    "plt.xticks(fontsize=font_ticks)\n",
    "plt.yticks(fontsize=font_ticks)\n",
    "plt.xlabel('Easting coordinate y (km)', fontsize=font_labels)\n",
    "#plt.ylabel('Northing coordinate x (m)', fontsize=4)\n",
    "mpl.m2km()\n",
    "\n",
    "plt.tight_layout(True)\n",
    "#plt.savefig('../manuscript/Fig/upward_fourier_med.png', dpi=300)\n",
    "plt.savefig('../manuscript/Fig/Figure7.png', dpi=1200)"
   ]
  },
  {
   "cell_type": "code",
   "execution_count": 17,
   "metadata": {},
   "outputs": [
    {
     "name": "stdout",
     "output_type": "stream",
     "text": [
      "0.03444145923923814\n",
      "0.03444145923923826\n",
      "-0.029923731936085017\n",
      "0.26232817198362085\n"
     ]
    }
   ],
   "source": [
    "print np.std(delta_gz_bccb_up)\n",
    "print np.std(delta_gz_up)\n",
    "print np.mean(delta_gz_fourier_up)\n",
    "print np.std(delta_gz_fourier_up)"
   ]
  },
  {
   "cell_type": "markdown",
   "metadata": {},
   "source": [
    "## Comparison Downward - BCCB vs. Fast vs. Fourier"
   ]
  },
  {
   "cell_type": "code",
   "execution_count": 18,
   "metadata": {},
   "outputs": [
    {
     "name": "stderr",
     "output_type": "stream",
     "text": [
      "fourier_continuation.py:57: UserWarning: Using 'height' <= 0 means downward continuation, which is known to be unstable.\n",
      "  \"which is known to be unstable.\")\n"
     ]
    }
   ],
   "source": [
    "gzp_fourier_down = fc_c.upcontinue(xi, yi, dobs, shape, -50)"
   ]
  },
  {
   "cell_type": "code",
   "execution_count": 19,
   "metadata": {},
   "outputs": [
    {
     "name": "stdout",
     "output_type": "stream",
     "text": [
      "-4.117539688908588 4.121771949535535\n"
     ]
    }
   ],
   "source": [
    "# define the scale for residuals\n",
    "delta_gz_fourier_down = dobs_down-np.ravel(gzp_fourier_down)\n",
    "scale_max = np.max([delta_gz_bccb_down, delta_gz_down, delta_gz_fourier_down])\n",
    "scale_min = np.min([delta_gz_bccb_down, delta_gz_down, delta_gz_fourier_down])\n",
    "\n",
    "print scale_min, scale_max"
   ]
  },
  {
   "cell_type": "code",
   "execution_count": 20,
   "metadata": {},
   "outputs": [],
   "source": [
    "colorbar_ranges = np.arange(-4.4, 4.41, 0.4)"
   ]
  },
  {
   "cell_type": "code",
   "execution_count": 21,
   "metadata": {},
   "outputs": [
    {
     "data": {
      "text/plain": [
       "array([-4.40000000e+00, -4.00000000e+00, -3.60000000e+00, -3.20000000e+00,\n",
       "       -2.80000000e+00, -2.40000000e+00, -2.00000000e+00, -1.60000000e+00,\n",
       "       -1.20000000e+00, -8.00000000e-01, -4.00000000e-01,  3.55271368e-15,\n",
       "        4.00000000e-01,  8.00000000e-01,  1.20000000e+00,  1.60000000e+00,\n",
       "        2.00000000e+00,  2.40000000e+00,  2.80000000e+00,  3.20000000e+00,\n",
       "        3.60000000e+00,  4.00000000e+00,  4.40000000e+00])"
      ]
     },
     "execution_count": 21,
     "metadata": {},
     "output_type": "execute_result"
    }
   ],
   "source": [
    "colorbar_ranges"
   ]
  },
  {
   "cell_type": "code",
   "execution_count": 24,
   "metadata": {},
   "outputs": [
    {
     "data": {
      "image/png": "[encoded data removed]",
      "text/plain": [
       "<Figure size 311.76x280.584 with 8 Axes>"
      ]
     },
     "metadata": {
      "needs_background": "light"
     },
     "output_type": "display_data"
    }
   ],
   "source": [
    "font_title = 8\n",
    "font_ticks = 5\n",
    "font_labels = 6\n",
    "\n",
    "height=9.\n",
    "width = 10.\n",
    "height_per_width = height/width\n",
    "#plt.figure(figsize=(10,9))\n",
    "plt.figure(figsize=(4.33,4.33*height_per_width))\n",
    "\n",
    "plt.subplot(221)\n",
    "plt.title('(a)', y=0.95, x=-0.18, fontsize=font_title)\n",
    "#plt.tricontourf(yi,xi,dobs_down,22,cmap='jet',\n",
    "#                vmin=synthetic_gz['gz_min'],vmax=synthetic_gz['gz_max'])\n",
    "plt.contourf(yi.reshape(shape),xi.reshape(shape),dobs_down.reshape(shape),\n",
    "             22,cmap='jet',vmin=synthetic_gz['gz_min'],vmax=synthetic_gz['gz_max'])\n",
    "plt.plot(x_p,y_p,color=\"k\", linewidth=1)\n",
    "plt.plot(x_p2,y_p2,color=\"k\", linewidth=1)\n",
    "plt.plot(y, x, color=\"k\", linewidth=1)\n",
    "cb = plt.colorbar(shrink=1)\n",
    "#plt.axis('scaled')\n",
    "cb.set_label('Gravity data (mGal)', rotation=90, fontsize=font_labels)\n",
    "cb.ax.tick_params(labelsize=font_ticks)\n",
    "\n",
    "plt.xlim(np.min(yi),np.max(yi))\n",
    "plt.ylim(np.min(xi),np.max(xi))\n",
    "plt.xticks(fontsize=font_ticks)\n",
    "plt.yticks(fontsize=font_ticks)\n",
    "#plt.xlabel('Easting coordinate y (km)', fontsize=14)\n",
    "plt.ylabel('Northing coordinate x (m)', fontsize=font_labels)\n",
    "mpl.m2km()\n",
    "\n",
    "plt.subplot(222)\n",
    "plt.title('(b)', y=0.95, x=-0.18, fontsize=font_title)\n",
    "#plt.tricontourf(yi,xi,delta_gz_bccb_down,22,cmap='jet', vmin = scale_min, vmax = scale_max)\n",
    "plt.contourf(yi.reshape(shape),xi.reshape(shape),delta_gz_bccb_down.reshape(shape),\n",
    "             22,cmap='jet',vmin=scale_min,vmax=scale_max)\n",
    "plt.plot(x_p,y_p,color=\"k\", linewidth=1)\n",
    "plt.plot(x_p2,y_p2,color=\"k\", linewidth=1)\n",
    "plt.plot(y, x, color=\"k\", linewidth=1)\n",
    "\n",
    "#define colorbar\n",
    "cbar = plt.cm.ScalarMappable(cmap=cm.jet)\n",
    "cbar.set_array(delta_gz_bccb_down)\n",
    "cbar.set_clim(scale_min, scale_max)\n",
    "cb = plt.colorbar(cbar, shrink=1, boundaries=colorbar_ranges)\n",
    "cb.set_label('Residuals (mGal)', rotation=90, fontsize=font_labels)\n",
    "cb.ax.tick_params(labelsize=font_ticks)\n",
    "\n",
    "plt.xlim(np.min(yi),np.max(yi))\n",
    "plt.ylim(np.min(xi),np.max(xi))\n",
    "plt.xticks(fontsize=font_ticks)\n",
    "plt.yticks(fontsize=font_ticks)\n",
    "#plt.xlabel('Easting coordinate y (km)', fontsize=14)\n",
    "#plt.ylabel('Northing coordinate x (m)', fontsize=14)\n",
    "mpl.m2km()\n",
    "\n",
    "plt.subplot(223)\n",
    "plt.title('(c)', y=0.95, x=-0.18, fontsize=font_title)\n",
    "#plt.tricontourf(yi,xi,delta_gz_down,22,cmap='jet', vmin = scale_min, vmax = scale_max)\n",
    "plt.contourf(yi.reshape(shape),xi.reshape(shape),delta_gz_down.reshape(shape),\n",
    "             22,cmap='jet',vmin=scale_min,vmax=scale_max)\n",
    "plt.plot(x_p,y_p,color=\"k\", linewidth=1)\n",
    "plt.plot(x_p2,y_p2,color=\"k\", linewidth=1)\n",
    "plt.plot(y, x, color=\"k\", linewidth=1)\n",
    "\n",
    "#define colorbar\n",
    "cbar = plt.cm.ScalarMappable(cmap=cm.jet)\n",
    "cbar.set_array(delta_gz_down)\n",
    "cbar.set_clim(scale_min, scale_max)\n",
    "cb = plt.colorbar(cbar, shrink=1, boundaries=colorbar_ranges)\n",
    "cb.set_label('Residuals (mGal)', rotation=90, fontsize=font_labels)\n",
    "cb.ax.tick_params(labelsize=font_ticks)\n",
    "\n",
    "plt.xlim(np.min(yi),np.max(yi))\n",
    "plt.ylim(np.min(xi),np.max(xi))\n",
    "plt.xticks(fontsize=font_ticks)\n",
    "plt.yticks(fontsize=font_ticks)\n",
    "plt.xlabel('Easting coordinate y (km)', fontsize=font_labels)\n",
    "plt.ylabel('Northing coordinate x (m)', fontsize=font_labels)\n",
    "mpl.m2km()\n",
    "\n",
    "plt.subplot(224)\n",
    "plt.title('(d)', y=0.95, x=-0.18, fontsize=font_title)\n",
    "#plt.tricontourf(yi,xi,delta_gz_fourier_down,22,cmap='jet', vmin = scale_min, vmax = scale_max)\n",
    "plt.contourf(yi.reshape(shape),xi.reshape(shape),delta_gz_fourier_down.reshape(shape),\n",
    "             22,cmap='jet',vmin=scale_min,vmax=scale_max)\n",
    "plt.plot(x_p,y_p,color=\"k\", linewidth=1)\n",
    "plt.plot(x_p2,y_p2,color=\"k\", linewidth=1)\n",
    "plt.plot(y, x, color=\"k\", linewidth=1)\n",
    "\n",
    "#define colorbar\n",
    "cbar = plt.cm.ScalarMappable(cmap=cm.jet)\n",
    "cbar.set_array(delta_gz_fourier_down)\n",
    "cbar.set_clim(scale_min, scale_max)\n",
    "cb = plt.colorbar(cbar, shrink=1, boundaries=colorbar_ranges)\n",
    "cb.set_label('Residuals (mGal)', rotation=90, fontsize=font_labels)\n",
    "cb.ax.tick_params(labelsize=font_ticks)\n",
    "\n",
    "plt.xlim(np.min(yi),np.max(yi))\n",
    "plt.ylim(np.min(xi),np.max(xi))\n",
    "plt.xticks(fontsize=font_ticks)\n",
    "plt.yticks(fontsize=font_ticks)\n",
    "plt.xlabel('Easting coordinate y (km)', fontsize=font_labels)\n",
    "#plt.ylabel('Northing coordinate x (m)', fontsize=14)\n",
    "mpl.m2km()\n",
    "\n",
    "plt.tight_layout(True)\n",
    "#plt.savefig('../manuscript/Fig/downward_fourier_med.png', dpi=300)\n",
    "plt.savefig('../manuscript/Fig/Figure8.png', dpi=1200)"
   ]
  },
  {
   "cell_type": "code",
   "execution_count": 25,
   "metadata": {},
   "outputs": [
    {
     "name": "stdout",
     "output_type": "stream",
     "text": [
      "0.038312022338772185\n",
      "0.03831202233877217\n",
      "0.007934556980489862\n",
      "0.5816240951130157\n"
     ]
    }
   ],
   "source": [
    "print np.std(delta_gz_bccb_down)\n",
    "print np.std(delta_gz_down)\n",
    "print np.mean(delta_gz_fourier_down)\n",
    "print np.std(delta_gz_fourier_down)"
   ]
  },
  {
   "cell_type": "code",
   "execution_count": null,
   "metadata": {},
   "outputs": [],
   "source": []
  }
 ],
 "metadata": {
  "anaconda-cloud": {},
  "kernelspec": {
   "display_name": "Python 3",
   "language": "python",
   "name": "python3"
  },
  "language_info": {
   "codemirror_mode": {
    "name": "ipython",
    "version": 3
   },
   "file_extension": ".py",
   "mimetype": "text/x-python",
   "name": "python",
   "nbconvert_exporter": "python",
   "pygments_lexer": "ipython3",
   "version": "3.8.5"
  }
 },
 "nbformat": 4,
 "nbformat_minor": 1
}
